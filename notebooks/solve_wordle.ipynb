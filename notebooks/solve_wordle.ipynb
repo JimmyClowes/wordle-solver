{
 "cells": [
  {
   "cell_type": "markdown",
   "metadata": {},
   "source": [
    "## Read in word list"
   ]
  },
  {
   "cell_type": "code",
   "execution_count": 1,
   "metadata": {},
   "outputs": [],
   "source": [
    "import src.utils.git as gitutil\n",
    "bpath = gitutil.get_root()"
   ]
  },
  {
   "cell_type": "code",
   "execution_count": 2,
   "metadata": {},
   "outputs": [],
   "source": [
    "word_list_name = 'twl06.txt'\n",
    "\n",
    "word_list_file = bpath + '/data/processed/' + word_list_name\n",
    "\n",
    "with open(word_list_file, 'r') as f:\n",
    "    word_list = f.read().splitlines()"
   ]
  },
  {
   "cell_type": "markdown",
   "metadata": {},
   "source": [
    "## Initialise"
   ]
  },
  {
   "cell_type": "code",
   "execution_count": 3,
   "metadata": {},
   "outputs": [],
   "source": [
    "possible_words = word_list"
   ]
  },
  {
   "cell_type": "markdown",
   "metadata": {},
   "source": [
    "## Define entropy calculation"
   ]
  },
  {
   "cell_type": "code",
   "execution_count": 4,
   "metadata": {},
   "outputs": [],
   "source": [
    "import math\n",
    "\n",
    "def calc_entropy(possible_words):\n",
    "    num_possible_words = len(possible_words)\n",
    "    prob_each_possible_word = 1/num_possible_words\n",
    "    entropy = math.log(prob_each_possible_word, 2)\n",
    "\n",
    "    return(entropy)"
   ]
  },
  {
   "cell_type": "markdown",
   "metadata": {},
   "source": [
    "## Define guess checks\n",
    "### Function to check for correct positions"
   ]
  },
  {
   "cell_type": "code",
   "execution_count": 5,
   "metadata": {},
   "outputs": [],
   "source": [
    "def get_correct_positions(w1, w2):\n",
    "    correct_positions = dict([(x, w1[x]) for x in range(0,5) if w1[x] == w2[x]])\n",
    "\n",
    "    return correct_positions\n"
   ]
  },
  {
   "cell_type": "markdown",
   "metadata": {},
   "source": [
    "### Function to check for incorrect positions"
   ]
  },
  {
   "cell_type": "code",
   "execution_count": 6,
   "metadata": {},
   "outputs": [],
   "source": [
    "def get_guess_info(w1, w2):\n",
    "\n",
    "    correct_positions = get_correct_positions(w1,w2)\n",
    "\n",
    "    incorrect_poisition_letters = set(w1).intersection(set(w2)).symmetric_difference(correct_positions.values())\n",
    "\n",
    "    incorrect_positions = dict([(letter, w1.find(letter)) for letter in incorrect_poisition_letters])\n",
    "\n",
    "    incorrect_letters = set(w1).symmetric_difference(set(w2)).intersection(w1)\n",
    "\n",
    "    return {\"correct_positions\": correct_positions,\n",
    "            \"incorrect_positions\": incorrect_positions,\n",
    "            \"incorrect_letters\": incorrect_letters}"
   ]
  },
  {
   "cell_type": "markdown",
   "metadata": {},
   "source": [
    "## Functions to subset possible words based on guess info"
   ]
  },
  {
   "cell_type": "code",
   "execution_count": 7,
   "metadata": {},
   "outputs": [],
   "source": [
    "def subset_for_correct_position(possible_words, correct_position):\n",
    "\n",
    "    for pos, letter in correct_position.items():\n",
    "        possible_words = [word for word in possible_words if word[pos] == letter]\n",
    "    \n",
    "    return(possible_words)\n",
    "\n",
    "def subset_possible_for_incorrect_position(possible_words, incorrect_position):\n",
    "\n",
    "    for letter, pos in incorrect_position.items():\n",
    "        possible_words = [word for word in possible_words if letter in word]\n",
    "        possible_words = [word for word in possible_words if word[pos] != letter]\n",
    "\n",
    "    return(possible_words)\n",
    "\n",
    "def subset_possible_for_incorrect_letters(possible_words, incorrect_letters):\n",
    "\n",
    "    for letter in incorrect_letters:\n",
    "        possible_words = [word for word in possible_words if letter not in word]\n",
    "\n",
    "    return(possible_words)\n",
    "\n",
    "def subset_from_guess(possible_words, guess_info):\n",
    "\n",
    "    correct_positions = guess_info[\"correct_positions\"]\n",
    "    incorrect_positions = guess_info[\"incorrect_positions\"]\n",
    "    incorrect_letters = guess_info[\"incorrect_letters\"]\n",
    "\n",
    "    possible_words = subset_possible_for_incorrect_letters(possible_words, incorrect_letters)\n",
    "    # keep words in sensible guesses based on only incorrect letters being excluded\n",
    "    sensible_guesses = possible_words.copy()\n",
    "\n",
    "    possible_words = subset_possible_for_incorrect_position(possible_words, incorrect_positions)\n",
    "    possible_words = subset_for_correct_position(possible_words, correct_positions)\n",
    "\n",
    "    return {\"possible_words\": possible_words,\n",
    "            \"sensible_guesses\": sensible_guesses}"
   ]
  },
  {
   "cell_type": "markdown",
   "metadata": {},
   "source": [
    "### Determine number of possible words remaining with given guess and correct word"
   ]
  },
  {
   "cell_type": "code",
   "execution_count": 8,
   "metadata": {},
   "outputs": [],
   "source": [
    "def num_poss_if_right(possible_words, guess, correct):\n",
    "\n",
    "    possible_words = subset_from_guess(possible_words, get_guess_info(guess, correct))[\"possible_words\"]\n",
    "    num_poss = len(possible_words)\n",
    "\n",
    "    return(num_poss)"
   ]
  },
  {
   "cell_type": "markdown",
   "metadata": {},
   "source": [
    "### Calculate expected number of possible words remaining for given guess and any possible correct word"
   ]
  },
  {
   "cell_type": "code",
   "execution_count": 9,
   "metadata": {},
   "outputs": [],
   "source": [
    "from statistics import mean\n",
    "\n",
    "def calculate_expected_remaining(possible_words, guess):\n",
    "    num_posses = [num_poss_if_right(possible_words, guess, word) for word in possible_words]\n",
    "    expected_remaining = mean(num_posses)\n",
    "\n",
    "    return(expected_remaining)"
   ]
  },
  {
   "cell_type": "markdown",
   "metadata": {},
   "source": [
    "### Example number possible from first guess"
   ]
  },
  {
   "cell_type": "code",
   "execution_count": 10,
   "metadata": {},
   "outputs": [
    {
     "data": {
      "text/plain": [
       "175.35930810070218"
      ]
     },
     "execution_count": 10,
     "metadata": {},
     "output_type": "execute_result"
    }
   ],
   "source": [
    "calculate_expected_remaining(possible_words, 'irate')"
   ]
  },
  {
   "cell_type": "code",
   "execution_count": 11,
   "metadata": {},
   "outputs": [
    {
     "data": {
      "text/plain": [
       "297"
      ]
     },
     "execution_count": 11,
     "metadata": {},
     "output_type": "execute_result"
    }
   ],
   "source": [
    "len(subset_from_guess(possible_words, get_guess_info('train', 'blimp'))[\"possible_words\"])"
   ]
  },
  {
   "cell_type": "code",
   "execution_count": 12,
   "metadata": {},
   "outputs": [
    {
     "data": {
      "text/plain": [
       "1010"
      ]
     },
     "execution_count": 12,
     "metadata": {},
     "output_type": "execute_result"
    }
   ],
   "source": [
    "len(subset_from_guess(possible_words, get_guess_info('train', 'blimp'))[\"sensible_guesses\"])"
   ]
  }
 ],
 "metadata": {
  "interpreter": {
   "hash": "7cf9aac655d88b65655cb66959072bdec5e8b779b329c22e6732fd20c845dfae"
  },
  "kernelspec": {
   "display_name": "Python 3.7.3 64-bit ('.venv_wordle_solver': venv)",
   "language": "python",
   "name": "python3"
  },
  "language_info": {
   "codemirror_mode": {
    "name": "ipython",
    "version": 3
   },
   "file_extension": ".py",
   "mimetype": "text/x-python",
   "name": "python",
   "nbconvert_exporter": "python",
   "pygments_lexer": "ipython3",
   "version": "3.7.3"
  },
  "orig_nbformat": 4
 },
 "nbformat": 4,
 "nbformat_minor": 2
}

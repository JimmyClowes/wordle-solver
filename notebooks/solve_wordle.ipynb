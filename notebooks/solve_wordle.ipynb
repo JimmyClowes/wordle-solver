{
 "cells": [
  {
   "cell_type": "markdown",
   "metadata": {},
   "source": [
    "### Read in word list"
   ]
  },
  {
   "cell_type": "code",
   "execution_count": 1,
   "metadata": {},
   "outputs": [],
   "source": [
    "import src.utils.wordarrays as wordarrays\n",
    "import src.utils.git as gitutil\n",
    "bpath = gitutil.get_root()"
   ]
  },
  {
   "cell_type": "code",
   "execution_count": 2,
   "metadata": {},
   "outputs": [],
   "source": [
    "word_list_name = 'twl06.txt'\n",
    "\n",
    "word_list_file = bpath + '/data/processed/' + word_list_name\n",
    "\n",
    "with open(word_list_file, 'r') as f:\n",
    "    word_list = f.read().splitlines()"
   ]
  },
  {
   "cell_type": "markdown",
   "metadata": {},
   "source": [
    "### Initialise"
   ]
  },
  {
   "cell_type": "code",
   "execution_count": 3,
   "metadata": {},
   "outputs": [],
   "source": [
    "possible_words = word_list"
   ]
  },
  {
   "cell_type": "markdown",
   "metadata": {},
   "source": [
    "### Read in pre-calculated full cross-check"
   ]
  },
  {
   "cell_type": "code",
   "execution_count": 4,
   "metadata": {},
   "outputs": [],
   "source": [
    "import numpy as np"
   ]
  },
  {
   "cell_type": "code",
   "execution_count": 5,
   "metadata": {},
   "outputs": [],
   "source": [
    "full_cross_check = np.load(bpath + '/data/processed/full_cross_check_bin.npy')"
   ]
  },
  {
   "cell_type": "markdown",
   "metadata": {},
   "source": [
    "## Set up functions to carry out game steps"
   ]
  },
  {
   "cell_type": "code",
   "execution_count": 6,
   "metadata": {},
   "outputs": [],
   "source": [
    "def find_min_entropy_word(cross_checks):\n",
    "\n",
    "    entropies = [wordarrays.calc_entropy(check) for check in cross_checks]\n",
    "\n",
    "    min_entropy_word_index = entropies.index(max(entropies))\n",
    "\n",
    "    return(min_entropy_word_index)"
   ]
  },
  {
   "cell_type": "code",
   "execution_count": 7,
   "metadata": {},
   "outputs": [],
   "source": [
    "def array_from_record(record):\n",
    "\n",
    "    binary_index = full_cross_check[record[0],:]==record[1]\n",
    "\n",
    "    return(binary_index)"
   ]
  },
  {
   "cell_type": "code",
   "execution_count": 8,
   "metadata": {},
   "outputs": [],
   "source": [
    "def make_outcomes_tuple(outcomes):\n",
    "\n",
    "    outcomes_tuple = tuple(array_from_record(outcome) for outcome in outcomes)\n",
    "\n",
    "    return(outcomes_tuple)"
   ]
  },
  {
   "cell_type": "code",
   "execution_count": 9,
   "metadata": {},
   "outputs": [],
   "source": [
    "def determine_possible_from_outcomes(outcomes):\n",
    "\n",
    "    outcomes_tuple = make_outcomes_tuple(outcomes)\n",
    "\n",
    "    index_of_possible = np.where(np.all(np.dstack(outcomes_tuple), axis=2))[1]\n",
    "\n",
    "    return(index_of_possible)"
   ]
  },
  {
   "cell_type": "markdown",
   "metadata": {},
   "source": [
    "Pre-process first guess to save time in each game"
   ]
  },
  {
   "cell_type": "code",
   "execution_count": 10,
   "metadata": {},
   "outputs": [],
   "source": [
    "min_entropy_first_guess = find_min_entropy_word(full_cross_check)"
   ]
  },
  {
   "cell_type": "code",
   "execution_count": 11,
   "metadata": {},
   "outputs": [],
   "source": [
    "def make_guess(target_index, outcomes):\n",
    "\n",
    "    if len(outcomes) > 0:\n",
    "        possible_from_outcomes = determine_possible_from_outcomes(outcomes)\n",
    "\n",
    "        #calculate minimum entropy across all words\n",
    "        min_entropy_word = find_min_entropy_word(full_cross_check[:,possible_from_outcomes])\n",
    "        min_entropy = wordarrays.calc_entropy(full_cross_check[min_entropy_word,possible_from_outcomes])\n",
    "        \n",
    "        # calculate minimum entropy across possible words\n",
    "        min_entropy_word_poss = possible_from_outcomes[find_min_entropy_word(full_cross_check[:,possible_from_outcomes][possible_from_outcomes,:])]\n",
    "        min_poss_entropy = wordarrays.calc_entropy(full_cross_check[min_entropy_word_poss,possible_from_outcomes])\n",
    "\n",
    "        # choose a possible word if it has minimum entropy overall\n",
    "        if min_poss_entropy == min_entropy:\n",
    "            min_entropy_word = min_entropy_word_poss\n",
    "\n",
    "    else:\n",
    "        min_entropy_word = min_entropy_first_guess\n",
    "\n",
    "    outcome = full_cross_check[min_entropy_word,target_index]\n",
    "\n",
    "    outcome_tuple = tuple((min_entropy_word, outcome))\n",
    "\n",
    "    outcomes.append(outcome_tuple)\n",
    "\n",
    "    return(outcomes)"
   ]
  },
  {
   "cell_type": "code",
   "execution_count": 12,
   "metadata": {},
   "outputs": [],
   "source": [
    "def play_game(target_word, show_guesses=True):\n",
    "\n",
    "    target_index = possible_words.index(target_word)\n",
    "\n",
    "    outcomes = make_guess(target_index, [])\n",
    "\n",
    "    if show_guesses is True:\n",
    "            print(outcomes)\n",
    "\n",
    "    while(outcomes[-1][-1]!=992):\n",
    "        outcomes = make_guess(target_index, outcomes)\n",
    "        \n",
    "        if show_guesses is True:\n",
    "            print(outcomes)\n",
    "    \n",
    "    final_guess = determine_possible_from_outcomes(outcomes)\n",
    "\n",
    "    number_guesses = len(outcomes)\n",
    "\n",
    "    return possible_words[final_guess[0]], number_guesses"
   ]
  },
  {
   "cell_type": "code",
   "execution_count": 13,
   "metadata": {},
   "outputs": [
    {
     "name": "stdout",
     "output_type": "stream",
     "text": [
      "[(7678, 160)]\n",
      "[(7678, 160), (2072, 272)]\n",
      "[(7678, 160), (2072, 272), (6680, 22)]\n",
      "[(7678, 160), (2072, 272), (6680, 22), (8722, 992)]\n"
     ]
    },
    {
     "data": {
      "text/plain": [
       "('words', 4)"
      ]
     },
     "execution_count": 13,
     "metadata": {},
     "output_type": "execute_result"
    }
   ],
   "source": [
    "play_game('words')"
   ]
  }
 ],
 "metadata": {
  "interpreter": {
   "hash": "7cf9aac655d88b65655cb66959072bdec5e8b779b329c22e6732fd20c845dfae"
  },
  "kernelspec": {
   "display_name": "Python 3.7.3 64-bit ('.venv_wordle_solver': venv)",
   "language": "python",
   "name": "python3"
  },
  "language_info": {
   "codemirror_mode": {
    "name": "ipython",
    "version": 3
   },
   "file_extension": ".py",
   "mimetype": "text/x-python",
   "name": "python",
   "nbconvert_exporter": "python",
   "pygments_lexer": "ipython3",
   "version": "3.7.3"
  },
  "orig_nbformat": 4
 },
 "nbformat": 4,
 "nbformat_minor": 2
}

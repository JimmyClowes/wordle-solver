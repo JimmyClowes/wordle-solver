{
 "cells": [
  {
   "cell_type": "markdown",
   "metadata": {},
   "source": [
    "## Read in word list"
   ]
  },
  {
   "cell_type": "code",
   "execution_count": 1,
   "metadata": {},
   "outputs": [],
   "source": [
    "import src.utils.git as gitutil\n",
    "bpath = gitutil.get_root()"
   ]
  },
  {
   "cell_type": "code",
   "execution_count": 2,
   "metadata": {},
   "outputs": [],
   "source": [
    "word_list_name = 'twl06.txt'\n",
    "\n",
    "word_list_file = bpath + '/data/processed/' + word_list_name\n",
    "\n",
    "with open(word_list_file, 'r') as f:\n",
    "    word_list = f.read().splitlines()"
   ]
  },
  {
   "cell_type": "markdown",
   "metadata": {},
   "source": [
    "## Initialise"
   ]
  },
  {
   "cell_type": "code",
   "execution_count": 3,
   "metadata": {},
   "outputs": [],
   "source": [
    "possible_words = word_list"
   ]
  },
  {
   "cell_type": "markdown",
   "metadata": {},
   "source": [
    "## Read in pre-calculated full cross-check"
   ]
  },
  {
   "cell_type": "code",
   "execution_count": 4,
   "metadata": {},
   "outputs": [],
   "source": [
    "import numpy as np"
   ]
  },
  {
   "cell_type": "code",
   "execution_count": 5,
   "metadata": {},
   "outputs": [],
   "source": [
    "full_cross_check = np.load(bpath + '/data/processed/full_cross_check.npy')"
   ]
  },
  {
   "cell_type": "markdown",
   "metadata": {},
   "source": [
    "### Retrieve diagonals to get correct positions"
   ]
  },
  {
   "cell_type": "code",
   "execution_count": 6,
   "metadata": {},
   "outputs": [],
   "source": [
    "diags = np.diagonal(full_cross_check, axis1=2, axis2=3)"
   ]
  },
  {
   "cell_type": "markdown",
   "metadata": {},
   "source": [
    "### Determine remaining letters in incorrect positions"
   ]
  },
  {
   "cell_type": "markdown",
   "metadata": {},
   "source": [
    "Take row maxes excluding diagonals"
   ]
  },
  {
   "cell_type": "code",
   "execution_count": 7,
   "metadata": {},
   "outputs": [],
   "source": [
    "rowmaxes = np.logical_and((np.tril(full_cross_check, -1) + np.triu(full_cross_check, 1)).max(axis=3), ~diags)"
   ]
  },
  {
   "cell_type": "code",
   "execution_count": 8,
   "metadata": {},
   "outputs": [
    {
     "data": {
      "text/plain": [
       "'irate'"
      ]
     },
     "execution_count": 8,
     "metadata": {},
     "output_type": "execute_result"
    }
   ],
   "source": [
    "possible_words[3801]"
   ]
  },
  {
   "cell_type": "code",
   "execution_count": 9,
   "metadata": {},
   "outputs": [
    {
     "data": {
      "text/plain": [
       "(array([[False, False, False, False, False],\n",
       "        [False, False, False, False,  True],\n",
       "        [False, False, False,  True, False],\n",
       "        [False, False, False,  True,  True],\n",
       "        [False, False,  True, False, False],\n",
       "        [False, False,  True, False,  True],\n",
       "        [False, False,  True,  True, False],\n",
       "        [False, False,  True,  True,  True],\n",
       "        [False,  True, False, False, False],\n",
       "        [False,  True, False, False,  True],\n",
       "        [False,  True, False,  True, False],\n",
       "        [False,  True, False,  True,  True],\n",
       "        [False,  True,  True, False, False],\n",
       "        [False,  True,  True, False,  True],\n",
       "        [False,  True,  True,  True, False],\n",
       "        [False,  True,  True,  True,  True],\n",
       "        [ True, False, False, False, False],\n",
       "        [ True, False, False, False,  True],\n",
       "        [ True, False, False,  True, False],\n",
       "        [ True, False, False,  True,  True],\n",
       "        [ True, False,  True, False, False],\n",
       "        [ True, False,  True, False,  True],\n",
       "        [ True, False,  True,  True, False],\n",
       "        [ True, False,  True,  True,  True],\n",
       "        [ True,  True, False, False, False],\n",
       "        [ True,  True, False, False,  True],\n",
       "        [ True,  True, False,  True, False],\n",
       "        [ True,  True, False,  True,  True],\n",
       "        [ True,  True,  True, False, False],\n",
       "        [ True,  True,  True, False,  True],\n",
       "        [ True,  True,  True,  True, False],\n",
       "        [ True,  True,  True,  True,  True]]),\n",
       " array([1797,  985,  304,  253,  895,  420,  185,   94,  419,  411,   89,\n",
       "          77,  328,  197,   48,   40,  917,  301,  211,   63,  343,   19,\n",
       "          57,    4,  154,  143,   35,   25,  103,   10,    9,    2]))"
      ]
     },
     "execution_count": 9,
     "metadata": {},
     "output_type": "execute_result"
    }
   ],
   "source": [
    "np.unique(rowmaxes[3801], axis=0, return_counts=True)"
   ]
  },
  {
   "cell_type": "code",
   "execution_count": 10,
   "metadata": {},
   "outputs": [
    {
     "data": {
      "text/plain": [
       "(array([[False, False, False, False, False],\n",
       "        [False, False, False, False,  True],\n",
       "        [False, False, False,  True, False],\n",
       "        [False, False, False,  True,  True],\n",
       "        [False, False,  True, False, False],\n",
       "        [False, False,  True, False,  True],\n",
       "        [False, False,  True,  True, False],\n",
       "        [False, False,  True,  True,  True],\n",
       "        [False,  True, False, False, False],\n",
       "        [False,  True, False, False,  True],\n",
       "        [False,  True, False,  True, False],\n",
       "        [False,  True, False,  True,  True],\n",
       "        [False,  True,  True, False, False],\n",
       "        [False,  True,  True, False,  True],\n",
       "        [False,  True,  True,  True, False],\n",
       "        [False,  True,  True,  True,  True],\n",
       "        [ True, False, False, False, False],\n",
       "        [ True, False, False, False,  True],\n",
       "        [ True, False,  True, False, False],\n",
       "        [ True, False,  True, False,  True],\n",
       "        [ True, False,  True,  True, False],\n",
       "        [ True,  True, False, False, False],\n",
       "        [ True,  True, False, False,  True],\n",
       "        [ True,  True,  True, False,  True],\n",
       "        [ True,  True,  True,  True,  True]]),\n",
       " array([6255,  663,  488,   58,  551,   92,   44,   13,  401,   70,   23,\n",
       "           5,  119,   26,    5,    5,   90,   12,    6,    2,    1,    6,\n",
       "           1,    1,    1]))"
      ]
     },
     "execution_count": 10,
     "metadata": {},
     "output_type": "execute_result"
    }
   ],
   "source": [
    "np.unique(diags[3801], axis=0, return_counts=True)"
   ]
  }
 ],
 "metadata": {
  "interpreter": {
   "hash": "7cf9aac655d88b65655cb66959072bdec5e8b779b329c22e6732fd20c845dfae"
  },
  "kernelspec": {
   "display_name": "Python 3.7.3 64-bit ('.venv_wordle_solver': venv)",
   "language": "python",
   "name": "python3"
  },
  "language_info": {
   "codemirror_mode": {
    "name": "ipython",
    "version": 3
   },
   "file_extension": ".py",
   "mimetype": "text/x-python",
   "name": "python",
   "nbconvert_exporter": "python",
   "pygments_lexer": "ipython3",
   "version": "3.7.3"
  },
  "orig_nbformat": 4
 },
 "nbformat": 4,
 "nbformat_minor": 2
}
